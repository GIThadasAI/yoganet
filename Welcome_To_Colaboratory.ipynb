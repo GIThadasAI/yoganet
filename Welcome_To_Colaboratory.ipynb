{
  "nbformat": 4,
  "nbformat_minor": 0,
  "metadata": {
    "colab": {
      "name": "Welcome To Colaboratory",
      "provenance": [],
      "collapsed_sections": [],
      "toc_visible": true,
      "include_colab_link": true
    },
    "kernelspec": {
      "display_name": "Python 3",
      "name": "python3"
    },
    "accelerator": "GPU"
  },
  "cells": [
    {
      "cell_type": "markdown",
      "metadata": {
        "id": "view-in-github",
        "colab_type": "text"
      },
      "source": [
        "<a href=\"https://colab.research.google.com/github/GIThadasAI/yoganet/blob/main/Welcome_To_Colaboratory.ipynb\" target=\"_parent\"><img src=\"https://colab.research.google.com/assets/colab-badge.svg\" alt=\"Open In Colab\"/></a>"
      ]
    },
    {
      "cell_type": "code",
      "metadata": {
        "id": "jhwHp-u-fmp0",
        "outputId": "ea68ce75-8f36-453b-d081-111ac34b9e46",
        "colab": {
          "base_uri": "https://localhost:8080/",
          "height": 34
        }
      },
      "source": [
        "from google.colab import drive\n",
        "drive.mount('/content/drive')"
      ],
      "execution_count": 2,
      "outputs": [
        {
          "output_type": "stream",
          "text": [
            "Mounted at /content/drive\n"
          ],
          "name": "stdout"
        }
      ]
    },
    {
      "cell_type": "code",
      "metadata": {
        "id": "UPdX6B7yhNbi"
      },
      "source": [
        "import tensorflow as tf\n",
        "from tensorflow import keras\n",
        "from keras import backend as K\n",
        "import numpy as np\n",
        "import matplotlib.pyplot as plt\n",
        "import cv2"
      ],
      "execution_count": 3,
      "outputs": []
    },
    {
      "cell_type": "code",
      "metadata": {
        "id": "V6hqo4l1hS5S",
        "outputId": "00109a7b-8780-40d9-af1c-220a583885a1",
        "colab": {
          "base_uri": "https://localhost:8080/",
          "height": 34
        }
      },
      "source": [
        "data_root='/content/drive/My Drive/train data'\n",
        "\n",
        "from keras.preprocessing.image import ImageDataGenerator, load_img, img_to_array\n",
        "\n",
        "train_datagen = ImageDataGenerator(        rescale=1./255,            # normalize pixel values to [0,1]\n",
        "     )  \n",
        "\n",
        "train_generator = train_datagen.flow_from_directory(\n",
        "    data_root,\n",
        "    target_size=(300, 300),\n",
        "    color_mode=\"grayscale\",\n",
        "    class_mode='categorical')"
      ],
      "execution_count": 9,
      "outputs": [
        {
          "output_type": "stream",
          "text": [
            "Found 7229 images belonging to 10 classes.\n"
          ],
          "name": "stdout"
        }
      ]
    },
    {
      "cell_type": "code",
      "metadata": {
        "id": "q3dIZly8hTU6",
        "outputId": "8b011b79-e83c-48f3-cd8f-57c13615025e",
        "colab": {
          "base_uri": "https://localhost:8080/",
          "height": 1000
        }
      },
      "source": [
        "image_size = 300 #image.sape\n",
        "model = tf.keras.Sequential([\n",
        "    tf.keras.layers.Conv2D(16, kernel_size=(4,4),input_shape=(image_size,image_size,1)),\n",
        "    tf.keras.layers.Activation('relu'),\n",
        "    tf.keras.layers.MaxPool2D((3,3)),\n",
        "    tf.keras.layers.Conv2D(32, kernel_size=(4,4)),\n",
        "    tf.keras.layers.Activation('relu'),\n",
        "    tf.keras.layers.MaxPool2D((3,3)),\n",
        "    tf.keras.layers.Conv2D(64, kernel_size=(4,4)),\n",
        "    tf.keras.layers.Activation('relu'),\n",
        "    tf.keras.layers.MaxPool2D((3,3)),\n",
        "    tf.keras.layers.Flatten(),\n",
        "    tf.keras.layers.Dense(128, activation=tf.nn.relu),\n",
        "    # Predict classes probabilities (10 values) \n",
        "    tf.keras.layers.Dense(10, activation=tf.nn.softmax)])\n",
        "opt = keras.optimizers.Adam(learning_rate=0.001)\n",
        "model.compile(opt, loss='categorical_crossentropy')\n",
        "model.summary()\n",
        "history = model.fit_generator(generator=train_generator, epochs=10)\n",
        "plt.plot(history.history['loss'])\n",
        "plt.title('MSE Loss')"
      ],
      "execution_count": 10,
      "outputs": [
        {
          "output_type": "stream",
          "text": [
            "Model: \"sequential_4\"\n",
            "_________________________________________________________________\n",
            "Layer (type)                 Output Shape              Param #   \n",
            "=================================================================\n",
            "conv2d_12 (Conv2D)           (None, 297, 297, 16)      272       \n",
            "_________________________________________________________________\n",
            "activation_12 (Activation)   (None, 297, 297, 16)      0         \n",
            "_________________________________________________________________\n",
            "max_pooling2d_12 (MaxPooling (None, 99, 99, 16)        0         \n",
            "_________________________________________________________________\n",
            "conv2d_13 (Conv2D)           (None, 96, 96, 32)        8224      \n",
            "_________________________________________________________________\n",
            "activation_13 (Activation)   (None, 96, 96, 32)        0         \n",
            "_________________________________________________________________\n",
            "max_pooling2d_13 (MaxPooling (None, 32, 32, 32)        0         \n",
            "_________________________________________________________________\n",
            "conv2d_14 (Conv2D)           (None, 29, 29, 64)        32832     \n",
            "_________________________________________________________________\n",
            "activation_14 (Activation)   (None, 29, 29, 64)        0         \n",
            "_________________________________________________________________\n",
            "max_pooling2d_14 (MaxPooling (None, 9, 9, 64)          0         \n",
            "_________________________________________________________________\n",
            "flatten_4 (Flatten)          (None, 5184)              0         \n",
            "_________________________________________________________________\n",
            "dense_8 (Dense)              (None, 128)               663680    \n",
            "_________________________________________________________________\n",
            "dense_9 (Dense)              (None, 10)                1290      \n",
            "=================================================================\n",
            "Total params: 706,298\n",
            "Trainable params: 706,298\n",
            "Non-trainable params: 0\n",
            "_________________________________________________________________\n",
            "Epoch 1/10\n",
            "226/226 [==============================] - 3219s 14s/step - loss: 0.1121\n",
            "Epoch 2/10\n",
            "226/226 [==============================] - 17s 75ms/step - loss: 7.7010e-06\n",
            "Epoch 3/10\n",
            "226/226 [==============================] - 17s 75ms/step - loss: 3.9852e-06\n",
            "Epoch 4/10\n",
            "226/226 [==============================] - 17s 74ms/step - loss: 2.4110e-06\n",
            "Epoch 5/10\n",
            "226/226 [==============================] - 17s 74ms/step - loss: 1.5943e-06\n",
            "Epoch 6/10\n",
            "226/226 [==============================] - 17s 74ms/step - loss: 1.1013e-06\n",
            "Epoch 7/10\n",
            "226/226 [==============================] - 17s 77ms/step - loss: 7.9731e-07\n",
            "Epoch 8/10\n",
            "226/226 [==============================] - 17s 76ms/step - loss: 6.0343e-07\n",
            "Epoch 9/10\n",
            "226/226 [==============================] - 17s 74ms/step - loss: 4.7588e-07\n",
            "Epoch 10/10\n",
            "226/226 [==============================] - 17s 73ms/step - loss: 3.7847e-07\n"
          ],
          "name": "stdout"
        },
        {
          "output_type": "execute_result",
          "data": {
            "text/plain": [
              "Text(0.5, 1.0, 'MSE Loss')"
            ]
          },
          "metadata": {
            "tags": []
          },
          "execution_count": 10
        },
        {
          "output_type": "display_data",
          "data": {
            "image/png": "[encoded data removed]",
            "text/plain": [
              "<Figure size 432x288 with 1 Axes>"
            ]
          },
          "metadata": {
            "tags": [],
            "needs_background": "light"
          }
        }
      ]
    },
    {
      "cell_type": "code",
      "metadata": {
        "id": "PEY9aa1EuqhL",
        "outputId": "6aac7427-5281-46eb-bbfe-383fe7797fef",
        "colab": {
          "base_uri": "https://localhost:8080/",
          "height": 156
        }
      },
      "source": [
        "tf.saved_model.save(model, '/content/drive/My Drive/')"
      ],
      "execution_count": 36,
      "outputs": [
        {
          "output_type": "stream",
          "text": [
            "WARNING:tensorflow:From /usr/local/lib/python3.6/dist-packages/tensorflow/python/training/tracking/tracking.py:111: Model.state_updates (from tensorflow.python.keras.engine.training) is deprecated and will be removed in a future version.\n",
            "Instructions for updating:\n",
            "This property should not be used in TensorFlow 2.0, as updates are applied automatically.\n",
            "WARNING:tensorflow:From /usr/local/lib/python3.6/dist-packages/tensorflow/python/training/tracking/tracking.py:111: Layer.updates (from tensorflow.python.keras.engine.base_layer) is deprecated and will be removed in a future version.\n",
            "Instructions for updating:\n",
            "This property should not be used in TensorFlow 2.0, as updates are applied automatically.\n",
            "INFO:tensorflow:Assets written to: /content/drive/My Drive/assets\n"
          ],
          "name": "stdout"
        }
      ]
    }
  ]
}